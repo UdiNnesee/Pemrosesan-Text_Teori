{
  "nbformat": 4,
  "nbformat_minor": 0,
  "metadata": {
    "colab": {
      "provenance": [],
      "mount_file_id": "1QuOMeRfYIwaxmo5uM7nnqSAtW1gDh5b9",
      "authorship_tag": "ABX9TyNDoLvNbptG4gPsp4E/LVW5",
      "include_colab_link": true
    },
    "kernelspec": {
      "name": "python3",
      "display_name": "Python 3"
    },
    "language_info": {
      "name": "python"
    }
  },
  "cells": [
    {
      "cell_type": "markdown",
      "metadata": {
        "id": "view-in-github",
        "colab_type": "text"
      },
      "source": [
        "<a href=\"https://colab.research.google.com/github/UdiNnesee/Pemrosesan-Text_Teori/blob/main/analsis_senti_pubaya.ipynb\" target=\"_parent\"><img src=\"https://colab.research.google.com/assets/colab-badge.svg\" alt=\"Open In Colab\"/></a>"
      ]
    },
    {
      "cell_type": "code",
      "execution_count": 74,
      "metadata": {
        "colab": {
          "base_uri": "https://localhost:8080/"
        },
        "id": "fEeFeYZWpBQv",
        "outputId": "bd2c0a7a-ba35-4e38-d6ec-7142ecc48546"
      },
      "outputs": [
        {
          "output_type": "stream",
          "name": "stdout",
          "text": [
            "Drive already mounted at /content/drive; to attempt to forcibly remount, call drive.mount(\"/content/drive\", force_remount=True).\n"
          ]
        }
      ],
      "source": [
        "import pandas as pd\n",
        "from google.colab import drive\n",
        "\n",
        "drive.mount('/content/drive')"
      ]
    },
    {
      "cell_type": "code",
      "source": [
        "file_path = '/content/drive/My Drive/Pemrosesan_text/purbaya_normalized.csv'\n",
        "df = pd.read_csv(file_path)\n",
        "print(df.head())"
      ],
      "metadata": {
        "colab": {
          "base_uri": "https://localhost:8080/"
        },
        "id": "ESP2WkJUvhno",
        "outputId": "be3fd2e9-a166-496f-eedc-6850e3dc04c0"
      },
      "execution_count": 75,
      "outputs": [
        {
          "output_type": "stream",
          "name": "stdout",
          "text": [
            "   conversation_id_str                      created_at  favorite_count  \\\n",
            "0  1977523927539929220  Sun Oct 12 23:56:59 +0000 2025              46   \n",
            "1  1977286675383619611  Sun Oct 12 23:52:01 +0000 2025               0   \n",
            "2  1977522101767782544  Sun Oct 12 23:49:44 +0000 2025               2   \n",
            "3  1976815318850060316  Sun Oct 12 23:42:49 +0000 2025               0   \n",
            "4  1976701751932899809  Sun Oct 12 23:40:51 +0000 2025               0   \n",
            "\n",
            "                                           full_text               id_str  \\\n",
            "0   HOAX ALERT! Beredar sebuah nomor asing mengak...  1977523927539929220   \n",
            "1  @mr_banan12 Jadi inget vidio pejabat Bea cukai...  1977522678295851250   \n",
            "2  Ultimatum Purbaya ke Anak Buah: Gue Sikat Lu G...  1977522101767782544   \n",
            "3  @Giiselje Ha ha MUI urusan mu bukan itu presid...  1977520362368942236   \n",
            "4  @TasyaFebri18 Purbaya membawa angin segar bagi...  1977519868527378833   \n",
            "\n",
            "                                         image_url in_reply_to_screen_name  \\\n",
            "0  https://pbs.twimg.com/media/G3GTh3ma8AEyoLc.jpg                     NaN   \n",
            "1                                              NaN              mr_banan12   \n",
            "2                                              NaN                     NaN   \n",
            "3                                              NaN                Giiselje   \n",
            "4                                              NaN            TasyaFebri18   \n",
            "\n",
            "  lang  location  quote_count  reply_count  retweet_count  \\\n",
            "0   in       NaN            0            8              6   \n",
            "1   in       NaN            0            0              0   \n",
            "2   in       NaN            0            1              1   \n",
            "3   in       NaN            0            0              0   \n",
            "4   in       NaN            0            0              0   \n",
            "\n",
            "                                           tweet_url          user_id_str  \\\n",
            "0  https://x.com/undefined/status/197752392753992...  1353570546869440512   \n",
            "1  https://x.com/undefined/status/197752267829585...           2468642390   \n",
            "2  https://x.com/undefined/status/197752210176778...            165242082   \n",
            "3  https://x.com/undefined/status/197752036236894...  1480011741983490051   \n",
            "4  https://x.com/undefined/status/197751986852737...  1830891569588903937   \n",
            "\n",
            "   username                                       cleaned_text  \\\n",
            "0       NaN  hoax ale beredar sebuah nomor asing mengaku se...   \n",
            "1       NaN  jadi inget vidio pejabat bea cukai yg di suruh...   \n",
            "2       NaN  ultimatum purbaya ke anak buah gue sikat lu ga...   \n",
            "3       NaN  ha ha mui urusan mu bukan itu presiden saja sa...   \n",
            "4       NaN  purbaya membawa angin segar bagi dunia investa...   \n",
            "\n",
            "                                     normalized_text  \n",
            "0  hoax ale beredar sebuah nomor asing mengaku se...  \n",
            "1  jadi inget vidio pejabat bea cukai yang suruh ...  \n",
            "2  ultimatum purbaya anak buah gue sikat tidak ad...  \n",
            "3  mui urusan bukan itu presiden saja sangat happ...  \n",
            "4  purbaya membawa angin segar bagi dunia investa...  \n"
          ]
        }
      ]
    },
    {
      "cell_type": "code",
      "source": [
        "df.info()"
      ],
      "metadata": {
        "colab": {
          "base_uri": "https://localhost:8080/"
        },
        "id": "aQLzv-6UvwTq",
        "outputId": "9a719eec-51fb-40d3-cee4-784ae82be438"
      },
      "execution_count": 76,
      "outputs": [
        {
          "output_type": "stream",
          "name": "stdout",
          "text": [
            "<class 'pandas.core.frame.DataFrame'>\n",
            "RangeIndex: 1064 entries, 0 to 1063\n",
            "Data columns (total 17 columns):\n",
            " #   Column                   Non-Null Count  Dtype  \n",
            "---  ------                   --------------  -----  \n",
            " 0   conversation_id_str      1064 non-null   int64  \n",
            " 1   created_at               1064 non-null   object \n",
            " 2   favorite_count           1064 non-null   int64  \n",
            " 3   full_text                1064 non-null   object \n",
            " 4   id_str                   1064 non-null   int64  \n",
            " 5   image_url                255 non-null    object \n",
            " 6   in_reply_to_screen_name  391 non-null    object \n",
            " 7   lang                     1064 non-null   object \n",
            " 8   location                 0 non-null      float64\n",
            " 9   quote_count              1064 non-null   int64  \n",
            " 10  reply_count              1064 non-null   int64  \n",
            " 11  retweet_count            1064 non-null   int64  \n",
            " 12  tweet_url                1064 non-null   object \n",
            " 13  user_id_str              1064 non-null   int64  \n",
            " 14  username                 0 non-null      float64\n",
            " 15  cleaned_text             1064 non-null   object \n",
            " 16  normalized_text          1064 non-null   object \n",
            "dtypes: float64(2), int64(7), object(8)\n",
            "memory usage: 141.4+ KB\n"
          ]
        }
      ]
    },
    {
      "cell_type": "code",
      "source": [
        "columns_to_keep = [\n",
        "    'id_str',\n",
        "    'created_at',\n",
        "    'full_text',\n",
        "    'normalized_text',\n",
        "    'favorite_count',\n",
        "    'reply_count',\n",
        "    'retweet_count'\n",
        "]\n",
        "df_fix = df[columns_to_keep]\n",
        "print(df_fix.head())"
      ],
      "metadata": {
        "colab": {
          "base_uri": "https://localhost:8080/"
        },
        "id": "koSn-Xmyv92o",
        "outputId": "5a178409-ec38-4ebf-9299-66536b2be85d"
      },
      "execution_count": 77,
      "outputs": [
        {
          "output_type": "stream",
          "name": "stdout",
          "text": [
            "                id_str                      created_at  \\\n",
            "0  1977523927539929220  Sun Oct 12 23:56:59 +0000 2025   \n",
            "1  1977522678295851250  Sun Oct 12 23:52:01 +0000 2025   \n",
            "2  1977522101767782544  Sun Oct 12 23:49:44 +0000 2025   \n",
            "3  1977520362368942236  Sun Oct 12 23:42:49 +0000 2025   \n",
            "4  1977519868527378833  Sun Oct 12 23:40:51 +0000 2025   \n",
            "\n",
            "                                           full_text  \\\n",
            "0   HOAX ALERT! Beredar sebuah nomor asing mengak...   \n",
            "1  @mr_banan12 Jadi inget vidio pejabat Bea cukai...   \n",
            "2  Ultimatum Purbaya ke Anak Buah: Gue Sikat Lu G...   \n",
            "3  @Giiselje Ha ha MUI urusan mu bukan itu presid...   \n",
            "4  @TasyaFebri18 Purbaya membawa angin segar bagi...   \n",
            "\n",
            "                                     normalized_text  favorite_count  \\\n",
            "0  hoax ale beredar sebuah nomor asing mengaku se...              46   \n",
            "1  jadi inget vidio pejabat bea cukai yang suruh ...               0   \n",
            "2  ultimatum purbaya anak buah gue sikat tidak ad...               2   \n",
            "3  mui urusan bukan itu presiden saja sangat happ...               0   \n",
            "4  purbaya membawa angin segar bagi dunia investa...               0   \n",
            "\n",
            "   reply_count  retweet_count  \n",
            "0            8              6  \n",
            "1            0              0  \n",
            "2            1              1  \n",
            "3            0              0  \n",
            "4            0              0  \n"
          ]
        }
      ]
    },
    {
      "cell_type": "code",
      "source": [
        "df_fix.info()"
      ],
      "metadata": {
        "colab": {
          "base_uri": "https://localhost:8080/"
        },
        "id": "2B69seRFwduQ",
        "outputId": "391d0ba1-6766-4f4a-e81b-3ae87266add8"
      },
      "execution_count": 78,
      "outputs": [
        {
          "output_type": "stream",
          "name": "stdout",
          "text": [
            "<class 'pandas.core.frame.DataFrame'>\n",
            "RangeIndex: 1064 entries, 0 to 1063\n",
            "Data columns (total 7 columns):\n",
            " #   Column           Non-Null Count  Dtype \n",
            "---  ------           --------------  ----- \n",
            " 0   id_str           1064 non-null   int64 \n",
            " 1   created_at       1064 non-null   object\n",
            " 2   full_text        1064 non-null   object\n",
            " 3   normalized_text  1064 non-null   object\n",
            " 4   favorite_count   1064 non-null   int64 \n",
            " 5   reply_count      1064 non-null   int64 \n",
            " 6   retweet_count    1064 non-null   int64 \n",
            "dtypes: int64(4), object(3)\n",
            "memory usage: 58.3+ KB\n"
          ]
        }
      ]
    },
    {
      "cell_type": "code",
      "source": [
        "output_file_path = '/content/drive/My Drive/Pemrosesan_text/purbaya_fix.csv'\n",
        "df_fix.to_csv(output_file_path, index=False)"
      ],
      "metadata": {
        "id": "UpWdW5rdxTFd"
      },
      "execution_count": 79,
      "outputs": []
    },
    {
      "cell_type": "code",
      "source": [
        "import pandas as pd\n",
        "import re # Import library Regular Expression\n",
        "\n",
        "print(\"--- Memulai Blok Filter Spam Hashtag ---\")\n",
        "\n",
        "# Pastikan 'df_fix' ada\n",
        "if 'df_fix' not in locals():\n",
        "    print(\"Error: DataFrame 'df_fix' tidak ditemukan.\")\n",
        "    print(\"Harap muat file 'purbaya_fix.csv' Anda terlebih dahulu.\")\n",
        "else:\n",
        "    # 1. Catat jumlah data awal\n",
        "    total_awal = len(df_fix)\n",
        "    print(f\"Jumlah data awal: {total_awal} baris\")\n",
        "\n",
        "    # 2. Buat kolom baru dengan menghapus semua kata hashtag (contoh: #purbaya)\n",
        "    # r\"#\\S+\" artinya: temukan simbol #, lalu temukan semua karakter BUKAN spasi (S+) setelahnya\n",
        "    df_fix['full_text_no_hashtag'] = df_fix['full_text'].astype(str).apply(\n",
        "        lambda x: re.sub(r\"#\\S+\", \"\", x).strip()\n",
        "    )\n",
        "\n",
        "    # 3. Lakukan filtering (Metode cerdas Anda)\n",
        "    # Kita HANYA menyimpan baris di mana 'full_text_no_hashtag'\n",
        "    # MASIH mengandung kata \"Purbaya\" (case=False = tidak peduli huruf besar/kecil)\n",
        "    df_sent_filtered = df_fix[\n",
        "        df_fix['full_text_no_hashtag'].str.contains(\"Purbaya\", case=False, na=False)\n",
        "    ].copy() # .copy() untuk menghindari warning\n",
        "\n",
        "    # 4. Catat jumlah data akhir\n",
        "    total_akhir = len(df_sent_filtered)\n",
        "    print(f\"Jumlah data setelah filter spam: {total_akhir} baris\")\n",
        "    print(f\"Jumlah data spam/tidak relevan yang dibuang: {total_awal - total_akhir} baris\")\n",
        "\n",
        "    # 5. Perbarui DataFrame 'df_fix' utama kita\n",
        "    df_fix = df_sent_filtered\n",
        "\n",
        "    print(\"\\nDataFrame 'df_fix' Anda sekarang sudah bersih dari spam hashtag.\")\n",
        "    print(\"Contoh 5 baris pertama 'full_text_no_hashtag' yang lolos filter:\")\n",
        "    print(df_fix[['full_text', 'full_text_no_hashtag']].head().to_markdown(index=False))\n"
      ],
      "metadata": {
        "colab": {
          "base_uri": "https://localhost:8080/"
        },
        "id": "2-IbIRv1CNxi",
        "outputId": "2cbef0eb-b0bf-4df7-d53a-a384f5b0f7b8"
      },
      "execution_count": 83,
      "outputs": [
        {
          "output_type": "stream",
          "name": "stdout",
          "text": [
            "--- Memulai Blok Filter Spam Hashtag ---\n",
            "Jumlah data awal: 1064 baris\n",
            "Jumlah data setelah filter spam: 1022 baris\n",
            "Jumlah data spam/tidak relevan yang dibuang: 42 baris\n",
            "\n",
            "DataFrame 'df_fix' Anda sekarang sudah bersih dari spam hashtag.\n",
            "Contoh 5 baris pertama 'full_text_no_hashtag' yang lolos filter:\n",
            "| full_text                                                                                                                                                                                                                                                                                   | full_text_no_hashtag                                                                                                                                                                                                                                                                        |\n",
            "|:--------------------------------------------------------------------------------------------------------------------------------------------------------------------------------------------------------------------------------------------------------------------------------------------|:--------------------------------------------------------------------------------------------------------------------------------------------------------------------------------------------------------------------------------------------------------------------------------------------|\n",
            "| HOAX ALERT! Beredar sebuah nomor asing mengaku sebagai Menkeu Purbaya. Faktanya: ITU HOAX. Selalu cross-check melalui kanal resmi di website akun terverifikasi dan call center. Jangan Tertipu. Jangan Sebar. Jangan Percaya. Laporkan nomor mencurigakan ke pihak https://t.co/jKug3AF2x3 | HOAX ALERT! Beredar sebuah nomor asing mengaku sebagai Menkeu Purbaya. Faktanya: ITU HOAX. Selalu cross-check melalui kanal resmi di website akun terverifikasi dan call center. Jangan Tertipu. Jangan Sebar. Jangan Percaya. Laporkan nomor mencurigakan ke pihak https://t.co/jKug3AF2x3 |\n",
            "| @mr_banan12 Jadi inget vidio pejabat Bea cukai yg di suruh balik badan. Didepan orang yg sedah bicara ke Purbaya.                                                                                                                                                                           | @mr_banan12 Jadi inget vidio pejabat Bea cukai yg di suruh balik badan. Didepan orang yg sedah bicara ke Purbaya.                                                                                                                                                                           |\n",
            "| Ultimatum Purbaya ke Anak Buah: Gue Sikat Lu Gak Ada Ampun! https://t.co/ymFXgdjiEI                                                                                                                                                                                                         | Ultimatum Purbaya ke Anak Buah: Gue Sikat Lu Gak Ada Ampun! https://t.co/ymFXgdjiEI                                                                                                                                                                                                         |\n",
            "| @Giiselje Ha ha MUI urusan mu bukan itu presiden saja sangat happy dgn pak Purbaya .MUI kacanya kabur                                                                                                                                                                                       | @Giiselje Ha ha MUI urusan mu bukan itu presiden saja sangat happy dgn pak Purbaya .MUI kacanya kabur                                                                                                                                                                                       |\n",
            "| @TasyaFebri18 Purbaya membawa angin segar bagi dunia investasi Indonesia.                                                                                                                                                                                                                   | @TasyaFebri18 Purbaya membawa angin segar bagi dunia investasi Indonesia.                                                                                                                                                                                                                   |\n"
          ]
        },
        {
          "output_type": "stream",
          "name": "stderr",
          "text": [
            "/tmp/ipython-input-866919830.py:17: SettingWithCopyWarning: \n",
            "A value is trying to be set on a copy of a slice from a DataFrame.\n",
            "Try using .loc[row_indexer,col_indexer] = value instead\n",
            "\n",
            "See the caveats in the documentation: https://pandas.pydata.org/pandas-docs/stable/user_guide/indexing.html#returning-a-view-versus-a-copy\n",
            "  df_fix['full_text_no_hashtag'] = df_fix['full_text'].astype(str).apply(\n"
          ]
        }
      ]
    },
    {
      "cell_type": "code",
      "source": [
        "output_dir = '/content/drive/My Drive/Pemrosesan_text'\n",
        "clean_output_path = os.path.join(output_dir, 'purbaya_spam_cleaned.csv')\n",
        "df_fix.to_csv(clean_output_path, index=False)"
      ],
      "metadata": {
        "id": "HB56__7hGXb2"
      },
      "execution_count": 89,
      "outputs": []
    },
    {
      "cell_type": "code",
      "source": [
        "file_path_clean = '/content/drive/My Drive/Pemrosesan_text/purbaya_spam_cleaned.csv'\n",
        "\n",
        "print(f\"Memuat file bersih dari: {file_path_clean}...\")\n",
        "df_sentiment = pd.read_csv(file_path_clean)\n",
        "\n",
        "print(f\"File berhasil dimuat. Siap untuk analisis.\")\n",
        "print(f\"Jumlah baris yang akan dianalisis: {len(df_sentiment)} baris\")"
      ],
      "metadata": {
        "colab": {
          "base_uri": "https://localhost:8080/"
        },
        "id": "U9LRvboGG7I_",
        "outputId": "3db92f3a-dc7a-4730-b346-a23fd449503a"
      },
      "execution_count": 95,
      "outputs": [
        {
          "output_type": "stream",
          "name": "stdout",
          "text": [
            "Memuat file bersih dari: /content/drive/My Drive/Pemrosesan_text/purbaya_spam_cleaned.csv...\n",
            "File berhasil dimuat. Siap untuk analisis.\n",
            "Jumlah baris yang akan dianalisis: 1022 baris\n"
          ]
        }
      ]
    },
    {
      "cell_type": "code",
      "source": [
        "!pip install transformers -q\n",
        "from transformers import pipeline\n",
        "\n",
        "model_name = \"w11wo/indonesian-roberta-base-sentiment-classifier\"\n",
        "print(f\"Memuat model: {model_name}...\")\n",
        "sentiment_pipeline = pipeline(\n",
        "    \"sentiment-analysis\",\n",
        "    model=model_name\n",
        ")"
      ],
      "metadata": {
        "colab": {
          "base_uri": "https://localhost:8080/"
        },
        "id": "FnvdTWqQJ_Vb",
        "outputId": "efe33169-45a4-4ff1-9797-b851da621a8b"
      },
      "execution_count": 92,
      "outputs": [
        {
          "output_type": "stream",
          "name": "stdout",
          "text": [
            "Memuat model: w11wo/indonesian-roberta-base-sentiment-classifier...\n"
          ]
        },
        {
          "output_type": "stream",
          "name": "stderr",
          "text": [
            "Device set to use cpu\n"
          ]
        }
      ]
    },
    {
      "cell_type": "code",
      "source": [
        "text_list = df_sentiment['normalized_text'].fillna('').astype(str).str[:512].tolist()\n",
        "print(f\"Menjalankan analisis (RoBERTa) pada {len(text_list)} tweet bersih...\")\n",
        "results = sentiment_pipeline(text_list)\n",
        "print(\"Analisis selesai.\")"
      ],
      "metadata": {
        "colab": {
          "base_uri": "https://localhost:8080/"
        },
        "id": "Tl0E_zpkKhxd",
        "outputId": "92b0c5ce-0de6-494f-d34d-f51d45911e61"
      },
      "execution_count": 96,
      "outputs": [
        {
          "output_type": "stream",
          "name": "stdout",
          "text": [
            "Menjalankan analisis (RoBERTa) pada 1022 tweet bersih...\n",
            "Analisis selesai.\n"
          ]
        }
      ]
    },
    {
      "cell_type": "code",
      "source": [
        "df_sentiment.loc[:, 'sentiment_label_final'] = [r['label'] for r in results]\n",
        "df_sentiment.loc[:, 'sentiment_score_final'] = [r['score'] for r in results]\n",
        "\n",
        "print(df_sentiment[['id_str', 'normalized_text', 'sentiment_label_final', 'sentiment_score_final']].head())"
      ],
      "metadata": {
        "colab": {
          "base_uri": "https://localhost:8080/"
        },
        "id": "ZfhfMCCsKlAE",
        "outputId": "e4ce7ccc-30be-4389-f8c8-4d1a2a6e1201"
      },
      "execution_count": 97,
      "outputs": [
        {
          "output_type": "stream",
          "name": "stdout",
          "text": [
            "                id_str                                    normalized_text  \\\n",
            "0  1977523927539929220  hoax ale beredar sebuah nomor asing mengaku se...   \n",
            "1  1977522678295851250  jadi inget vidio pejabat bea cukai yang suruh ...   \n",
            "2  1977522101767782544  ultimatum purbaya anak buah gue sikat tidak ad...   \n",
            "3  1977520362368942236  mui urusan bukan itu presiden saja sangat happ...   \n",
            "4  1977519868527378833  purbaya membawa angin segar bagi dunia investa...   \n",
            "\n",
            "  sentiment_label_final  sentiment_score_final  \n",
            "0              negative               0.988062  \n",
            "1               neutral               0.998077  \n",
            "2              negative               0.995214  \n",
            "3              negative               0.799101  \n",
            "4              positive               0.966722  \n"
          ]
        }
      ]
    },
    {
      "cell_type": "code",
      "source": [
        "import matplotlib.pyplot as plt\n",
        "import seaborn as sns\n",
        "import os\n",
        "\n",
        "# 1. Tampilkan hitungan sentimen final\n",
        "print(\"\\n--- Hasil Distribusi Sentimen Final (RoBERTa pada data bersih) ---\")\n",
        "sentiment_counts = df_sentiment['sentiment_label_final'].value_counts()\n",
        "print(sentiment_counts)\n",
        "\n",
        "# 2. Buat visualisasi (Bar Plot)\n",
        "print(\"\\nMembuat plot distribusi sentimen final...\")\n",
        "plt.figure(figsize=(8, 6))\n",
        "\n",
        "plot_order = ['positive', 'neutral', 'negative']\n",
        "plot_palette = {'positive': '#4CAF50', 'neutral': '#FFC107', 'negative': '#F44336'}\n",
        "plot_order_filtered = [l for l in plot_order if l in sentiment_counts.index]\n",
        "\n",
        "sns.countplot(\n",
        "    data=df_sentiment,                # <-- Menggunakan df_sentiment\n",
        "    x='sentiment_label_final',\n",
        "    order=plot_order_filtered,\n",
        "    palette=plot_palette,\n",
        "    hue='sentiment_label_final',\n",
        "    legend=False\n",
        ")\n",
        "plt.title('Distribusi Sentimen Final (Spam Dihapus)', fontsize=16)\n",
        "plt.xlabel('Sentimen', fontsize=12)\n",
        "plt.ylabel('Jumlah Tweet', fontsize=12)\n",
        "\n",
        "# 3. Tentukan folder dan path untuk menyimpan plot FINAL\n",
        "output_dir = '/content/drive/My Drive/pemrosesan_text'\n",
        "plot_path = os.path.join(output_dir, 'sentiment_distribution_FINAL.png')\n",
        "os.makedirs(output_dir, exist_ok=True)\n",
        "plt.savefig(plot_path)\n",
        "\n",
        "print(f\"Plot final berhasil disimpan di: {plot_path}\")\n",
        "plt.show()\n",
        "\n",
        "# 4. Simpan file CSV hasil akhir\n",
        "final_output_path = os.path.join(output_dir, 'purbaya_ANALISIS_FINAL.csv')\n",
        "df_sentiment.to_csv(final_output_path, index=False) # <-- Menggunakan df_sentiment\n",
        "print(f\"File hasil akhir (FINAL) berhasil disimpan di: {final_output_path}\")"
      ],
      "metadata": {
        "colab": {
          "base_uri": "https://localhost:8080/",
          "height": 754
        },
        "id": "pTdOrlp-SXv9",
        "outputId": "fdf191d6-d36c-46ef-bd3b-5203db4f1cca"
      },
      "execution_count": 102,
      "outputs": [
        {
          "output_type": "stream",
          "name": "stdout",
          "text": [
            "\n",
            "--- Hasil Distribusi Sentimen Final (RoBERTa pada data bersih) ---\n",
            "sentiment_label_final\n",
            "neutral     626\n",
            "negative    262\n",
            "positive    134\n",
            "Name: count, dtype: int64\n",
            "\n",
            "Membuat plot distribusi sentimen final...\n",
            "Plot final berhasil disimpan di: /content/drive/My Drive/pemrosesan_text/sentiment_distribution_FINAL.png\n"
          ]
        },
        {
          "output_type": "display_data",
          "data": {
            "text/plain": [
              "<Figure size 800x600 with 1 Axes>"
            ],
            "image/png": "[encoded data removed]"
          },
          "metadata": {}
        },
        {
          "output_type": "stream",
          "name": "stdout",
          "text": [
            "File hasil akhir (FINAL) berhasil disimpan di: /content/drive/My Drive/pemrosesan_text/purbaya_ANALISIS_FINAL.csv\n"
          ]
        }
      ]
    },
    {
      "cell_type": "markdown",
      "source": [
        "# BELUM SELESAI PAK BUTUH DI FINE TUNING UNTUK HASIL ANALISISNYA PAK\n"
      ],
      "metadata": {
        "id": "dD33ycSUSiSL"
      }
    },
    {
      "cell_type": "code",
      "source": [
        "sentiment_counts = df_sentiment['sentiment_label_final'].value_counts()\n",
        "print(sentiment_counts)"
      ],
      "metadata": {
        "colab": {
          "base_uri": "https://localhost:8080/"
        },
        "id": "66EYgzStOMLP",
        "outputId": "916bf7c7-7a5c-49dc-843c-ae7e0e431c84"
      },
      "execution_count": 98,
      "outputs": [
        {
          "output_type": "stream",
          "name": "stdout",
          "text": [
            "sentiment_label_final\n",
            "neutral     626\n",
            "negative    262\n",
            "positive    134\n",
            "Name: count, dtype: int64\n"
          ]
        }
      ]
    },
    {
      "cell_type": "code",
      "source": [
        "# --- Blok 5: Validasi Manual (Audit Model) ---\n",
        "import pandas as pd\n",
        "\n",
        "# Pastikan df_sentiment ada\n",
        "if 'df_sentiment' in locals():\n",
        "    print(\"--- Audit Acak: 20 Cuitan yang Diberi Label 'NEGATIVE' oleh Model ---\")\n",
        "    print(\"Silakan baca 'full_text_no_hashtag' dan nilai sendiri:\\n\")\n",
        "\n",
        "    # Ambil semua baris negatif\n",
        "    negative_tweets = df_sentiment[df_sentiment['sentiment_label_final'] == 'negative']\n",
        "\n",
        "    # Ambil 20 sampel acak (atau kurang jika tidak ada 20)\n",
        "    sample_size = min(20, len(negative_tweets))\n",
        "\n",
        "    if sample_size > 0:\n",
        "        # Atur pandas agar menampilkan teks lengkap\n",
        "        pd.set_option('display.max_colwidth', None)\n",
        "\n",
        "        # Tampilkan kolom-kolom penting\n",
        "        print(negative_tweets.sample(sample_size)[['full_text_no_hashtag', 'normalized_text']])\n",
        "    else:\n",
        "        print(\"Tidak ditemukan cuitan 'negative' untuk diaudit.\")\n",
        "else:\n",
        "    print(\"Error: DataFrame 'df_sentiment' tidak ditemukan.\")"
      ],
      "metadata": {
        "colab": {
          "base_uri": "https://localhost:8080/"
        },
        "id": "4uncydWuO1Aj",
        "outputId": "25386816-8f4f-4151-cc87-8bc0912e5fba"
      },
      "execution_count": 99,
      "outputs": [
        {
          "output_type": "stream",
          "name": "stdout",
          "text": [
            "--- Audit Acak: 20 Cuitan yang Diberi Label 'NEGATIVE' oleh Model ---\n",
            "Silakan baca 'full_text_no_hashtag' dan nilai sendiri:\n",
            "\n",
            "                                                                                                                                                                                                                                                                               full_text_no_hashtag  \\\n",
            "719                                                                                                                                                                                     @AnKiiim_ maaf pak Purbaya saya hanya percaya SPBU asing seperti Shell yang menjual bahan bakar berkualitas   \n",
            "99                                                              @sabrinaazel Rasanya buzzer buzzer Purbaya mulai aksi memberitakan hal hal seolah olah purbaya seorang hero buktikan saja nanti jangan terpleset lagi untuk kedua kali seperti dulu rakyat memuji Mulyono si pengkhianat konstitusi   \n",
            "299                                                                                                                                                                                                                @hamtawindu @msaid_didu Memang mentri selain Purbaya pd tdk waras? Tobat dah ...   \n",
            "39                                                                                                                                                                                                     Kalo liat Pak Purbaya itu keinget dosen kampus anjir yang cengar cengir tapi dalemnya killer   \n",
            "170             @ade206 @prabowo Purbaya itu gaya kerja Prabowo. Kegagalan Purbaya nanti akan parah dampaknya kepada ekonomi Indonesia. Dan gaya gila Purbaya ini juga harusnya bisa jadi pelajaran agar Prabowo belajar menerapkan manajemen Bapak Jokowi yang diam-diam tapi hasilnya luar biasa.   \n",
            "54                                                                                                                                                           Parahnya parah nih. Woy pak Purbaya mending @gojekindonesia @gojektech kau kasih juga intensif 69 T. Perputaran ekonomi anjlok nihhhhh   \n",
            "878                         @CNNIndonesia Kalau cuma 6% tinggal panggil BPS untuk utak-atik data (difabrikasi) terus diumumkan bahwa ekonomi tumbuh 6%. Sekarang rumusannya diganti yaitu: Kalau ekonomi Indonesia tumbuh 6% berdasarkan data yang difabrikasi Purbaya harus mundur . Berani gak???   \n",
            "458                                                                                                                                                                                                                              @abellamendoza17 Mampuuss kelen...siap2 aja kena Pecat pak Purbaya   \n",
            "112  @mr_banan12 @evese84 TENANG PAK PURBAYA RAKYAT TERUS BERJUANG MELAWAN SEGALA BENTUK MAFIA DI NEGERI INI. MEREKA SUDAH KELUAR DARI RUMAH DAN MULAI BERISIK ATAS PERLAWANAN DARI SUARA' KEBENARAN. TERUSKAN DAN KITA DUKUNG TOTAL KEBIJAKAN MELAWAN BAJINGAN MAFIA. SMGT! RAKYAT BERSAMAMU. 🇮🇩🇮🇩   \n",
            "966                                                                                                                                                                            kalau bukan prabowo presidennya purbaya dijegal. ekonomi kita dirawat hy 4-5% di era jokowi. https://t.co/rNT9x3qWn0   \n",
            "353                                                                                                                                                                                                                                        purbaya blm ngapa2in knp udh heboh warganet ya hey sabar   \n",
            "454                                   @AirinDatangLagi Tergantung Presiden nya sih...Klo Prabowo kayanya pasang basan buat menteri Purbaya. Lain dengan Sarkowi Diam2 menikam dari belakang Ke Ahok karena dirinya dan anakya takut Kalah saing di pilpres nanti nya . Makanya Ahok di Singkirkan .   \n",
            "482                                                                       @msaid_didu Apa pejabat yg dulu surruh njabat lagi du loe ntar klojotan pejabat skrg lah yg harus mikir lagian loe ngapain pusing purbaya sdh ngejelasin terang benderang loe masih gk faham dasar otak loe isinya taaeek   \n",
            "626                            @jenbiverse bukti ini bisa kali untuk pertimbangan Pak Purbaya untuk potong tunjangan gaji Polisi? karena emang gak ada yg perlu ditunjang kalau emang gak kerja kan? malu-maluin RI aja sampe diomongin WNA begini... ‍ sadar lah wahai manusia Polisi Indonesia...   \n",
            "459                                                                                                                                                          @arieparikesit @IraqFootballPod Gara-gara Purbaya nggak mau nyicil Utang KCIC pokok persoalannya Masz Jadi Wasit China kejam sama Kita   \n",
            "526                                                                                                                              Purbaya: Dari Rp 71 T Anggaran MBG Baru Rp13 T yang terserap Rp 58 T Hilang dalam Birokrasi . . Mana yg lebih jahat‼️ Siapa yg penjahat ‼️ https://t.co/doLQyV11iK   \n",
            "198                                                                                                                                                                                                                                                         @janandayo @mo0z__ Claim aja ke purbaya   \n",
            "104                                                                                                                                                                                                                                                    Oh iya sama semua berita yg ada kata purbaya   \n",
            "62                                                                                                                                                 @ImeldaTheQueen Hati hati Pak Menkeu Purbaya orang yang mempunyai integritas tinggi biasanya banyak musuhnya. Apalagi klo ada yg merasa terusik.   \n",
            "464                                   @kompascom Mau pendapatan pajak lebih tinggi? Adjust itu 0.5 ke 1%. Tapi jangan melototin UMKM terus. Tuh melototin KPP yang kerjannya berburu di kebon binatang. Ceritanya banyak tapi pengaduan kagak ditanggepin. Jangan2 middle name Purbaya itu Harmoko.   \n",
            "\n",
            "                                                                                                                                                                                                                                                    normalized_text  \n",
            "719                                                                                                                                                                 maaf pak purbaya saya hanya percaya spbu asing sepei shell yang menjual bahan bakar berkualitas  \n",
            "99                                                rasanya buzzer buzzer purbaya mulai aksi memberitakan hal hal seolah olah purbaya seorang hero buktikan saja nanti jangan terpleset lagi untuk kedua kali sepei dulu rakyat memuji mulyono pengkhianat konstitusi  \n",
            "299                                                                                                                                                                                                              memang mentri selain purbaya tidak waras tobat dah  \n",
            "39                                                                                                                                                                    kalau liat pak purbaya itu keinget dosen kampus anjir yang cengar cengir tapi dalemnya killer  \n",
            "170  purbaya itu gaya kerja prabowo kegagalan purbaya nanti akan parah dampaknya kepada ekonomi indonesia dan gaya gila purbaya ini juga harusnya bisa jadi pelajaran agar prabowo belajar menerapkan manajemen bapak jokowi yang diamdiam tapi hasilnya luar biasa  \n",
            "54                                                                                                                                                                parahnya parah nih woy pak purbaya mending kau kasih juga intensif perputaran ekonomi anjlok nihh  \n",
            "878                        kalau cuma tinggal panggil bps untuk utakatik data difabrikasi terus diumumkan bahwa ekonomi tumbuh sekarang rumusannya diganti yaitu kalau ekonomi indonesia tumbuh berdasarkan data yang difabrikasi purbaya harus mundur berani tidak  \n",
            "458                                                                                                                                                                                                                   mampuuss kelensiap aja kena pecat pak purbaya  \n",
            "112     tenang pak purbaya rakyat terus berjuang melawan segala bentuk mafia negeri ini mereka sudah keluar dari rumah dan mulai berisik atas perlawanan dari suara kebenaran teruskan dan kita dukung total kebijakan melawan bajingan mafia smgt rakyat bersamamu  \n",
            "966                                                                                                                                                                                 kalau bukan prabowo presidennya purbaya dijegal ekonomi kita dirawat era jokowi  \n",
            "353                                                                                                                                                                                                          purbaya belum ngapain knp udh heboh warganet hey sabar  \n",
            "454                                      tergantung presiden nya sihklo prabowo kayanya pasang basan buat menteri purbaya lain dengan sarkowi diam menikam dari belakang ahok karena dirinya dan anakya takut kalah saing pilpres nanti nya makanya ahok singkirkan  \n",
            "482                                                   apa pejabat yang dulu surruh njabat lagi loe ntar klojotan pejabat skrg lah yang harus mikir lagian loe ngapain pusing purbaya sudah ngejelasin terang benderang loe masih faham dasar otak loe isinya taaeek  \n",
            "626                  bukti ini bisa kali untuk peimbangan pak purbaya untuk potong tunjangan gaji polisi karena emang tidak ada yang perlu ditunjang kalau emang tidak kerja kan malumaluin aja sampe diomongin wna begini sadar lah wahai manusia polisi indonesia  \n",
            "459                                                                                                                                                           garagara purbaya tidak mau nyicil utang kcic pokok persoalannya masz jadi wasit china kejam sama kita  \n",
            "526                                                                                                                                                   purbaya dari anggaran mbg baru yang terserap hilang dalam birokrasi mana yang lebih jahat siapa yang penjahat  \n",
            "198                                                                                                                                                                                                                                               claim aja purbaya  \n",
            "104                                                                                                                                                                                                                     iya sama semua berita yang ada kata purbaya  \n",
            "62                                                                                                                               hati hati pak menkeu purbaya orang yang mempunyai integritas tinggi biasanya banyak musuhnya apalagi kalau ada yang merasa terusik  \n",
            "464                                  mau pendapatan pajak lebih tinggi adjust itu tapi jangan melototin umkm terus tuh melototin kpp yang kerjannya berburu kebon binatang ceritanya banyak tapi pengaduan kagak ditanggepin jangan middle name purbaya itu harmoko  \n"
          ]
        }
      ]
    },
    {
      "cell_type": "code",
      "source": [
        "import os\n",
        "\n",
        "print(\"--- Menyiapkan File untuk Pelabelan Manual ---\")\n",
        "\n",
        "# Pastikan df_sentiment ada dan berisi hasil terakhir\n",
        "if 'df_sentiment' in locals() and 'sentiment_label_final' in df_sentiment.columns:\n",
        "\n",
        "    # 1. Pilih kolom-kolom penting untuk pelabelan\n",
        "    # Kita butuh ID, teks asli, teks bersih, dan label 'salah' dari model\n",
        "    columns_to_export = [\n",
        "        'id_str',\n",
        "        'full_text_no_hashtag',\n",
        "        'normalized_text',\n",
        "        'sentiment_label_final' # Label \"salah\" dari model RoBERTa\n",
        "    ]\n",
        "\n",
        "    # 2. Buat DataFrame baru untuk pelabelan\n",
        "    df_labeling = df_sentiment[columns_to_export].copy()\n",
        "\n",
        "    # 3. Buat kolom baru untuk Anda isi\n",
        "    df_labeling['label_manual'] = \"\" # Kolom ini akan Anda isi\n",
        "\n",
        "    # 4. Tentukan path penyimpanan di Google Drive\n",
        "    output_dir = '/content/drive/My Drive/Pemrosesan_text'\n",
        "    labeling_file_path = os.path.join(output_dir, 'purbaya_UNTUK_LABELING.csv')\n",
        "\n",
        "    # 5. Simpan ke CSV\n",
        "    os.makedirs(output_dir, exist_ok=True)\n",
        "    df_labeling.to_csv(labeling_file_path, index=False)\n",
        "\n",
        "    print(f\"Berhasil!\")\n",
        "    print(f\"File '{labeling_file_path}' telah disimpan di Google Drive Anda.\")\n",
        "    print(\"Silakan buka file tersebut untuk memulai pelabelan manual.\")\n",
        "\n",
        "else:\n",
        "    print(\"Error: DataFrame 'df_sentiment' atau 'sentiment_label_final' tidak ditemukan.\")\n",
        "    print(\"Harap jalankan ulang Blok 1, 2, dan 3 dari langkah sebelumnya.\")"
      ],
      "metadata": {
        "colab": {
          "base_uri": "https://localhost:8080/"
        },
        "id": "qqs2msh1QB8N",
        "outputId": "3322970c-e598-4d6a-e1bf-27200f1a02a0"
      },
      "execution_count": 101,
      "outputs": [
        {
          "output_type": "stream",
          "name": "stdout",
          "text": [
            "--- Menyiapkan File untuk Pelabelan Manual ---\n",
            "Berhasil!\n",
            "File '/content/drive/My Drive/Pemrosesan_text/purbaya_UNTUK_LABELING.csv' telah disimpan di Google Drive Anda.\n",
            "Silakan buka file tersebut untuk memulai pelabelan manual.\n"
          ]
        }
      ]
    },
    {
      "cell_type": "markdown",
      "source": [],
      "metadata": {
        "id": "ztcziarFB9kg"
      }
    }
  ]
}